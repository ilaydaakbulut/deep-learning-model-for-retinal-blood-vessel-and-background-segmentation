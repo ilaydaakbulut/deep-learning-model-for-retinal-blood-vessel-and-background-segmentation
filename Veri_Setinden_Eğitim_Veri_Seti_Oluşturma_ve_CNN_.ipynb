{
  "nbformat": 4,
  "nbformat_minor": 0,
  "metadata": {
    "colab": {
      "name": "Veri Setinden Eğitim Veri Seti Oluşturma ve CNN .ipynb",
      "provenance": [],
      "collapsed_sections": []
    },
    "kernelspec": {
      "name": "python3",
      "display_name": "Python 3"
    }
  },
  "cells": [
    {
      "cell_type": "code",
      "metadata": {
        "id": "FXfSc_rOiO4K"
      },
      "source": [
        "!unzip -uq \"/content/all_image.zip\" -d \"/content/all_image\""
      ],
      "execution_count": null,
      "outputs": []
    },
    {
      "cell_type": "code",
      "metadata": {
        "id": "iA2tuyh4iaQG"
      },
      "source": [
        "import keras\r\n",
        "from keras import layers\r\n",
        "from keras import models\r\n",
        "import numpy as np\r\n",
        "import tensorflow as tf"
      ],
      "execution_count": null,
      "outputs": []
    },
    {
      "cell_type": "code",
      "metadata": {
        "colab": {
          "base_uri": "https://localhost:8080/"
        },
        "id": "BftlEfVyidgf",
        "outputId": "ee7e40fd-9c84-41d8-c0a3-238750461559"
      },
      "source": [
        "import os\r\n",
        "import cv2\r\n",
        "from google.colab.patches import cv2_imshow\r\n",
        "background_path = '/content/all_image/background'\r\n",
        "bloodvessel_path = '/content/all_image/bloodvessel'\r\n",
        "\r\n",
        "background_images = [f for f in os.listdir(background_path) if os.path.isfile(os.path.join(background_path, f))]\r\n",
        "bloodvessel_images = [f for f in os.listdir(bloodvessel_path) if os.path.isfile(os.path.join(bloodvessel_path, f))]\r\n",
        "\r\n",
        "print(len(background_images))\r\n",
        "print(background_images[3])\r\n",
        "print(len(bloodvessel_images))\r\n",
        "print(bloodvessel_images[3])\r\n",
        "\r\n",
        "bloodvessel_image=[]\r\n",
        "background_image=[]\r\n",
        "\r\n",
        "for i in range(len(bloodvessel_images)):\r\n",
        "    bloodvessel_image.append(cv2.imread(os.path.join(bloodvessel_path,bloodvessel_images[i]),cv2.IMREAD_COLOR))\r\n",
        "\r\n",
        "for i in range(len(background_images)):\r\n",
        "    background_image.append(cv2.imread(os.path.join(background_path,background_images[i]),cv2.IMREAD_COLOR))\r\n",
        "\r\n",
        "bloodvessel_image=np.array(bloodvessel_image,dtype=np.float32)\r\n",
        "\r\n",
        "background_image=np.array(background_image,dtype=np.float32)\r\n",
        "\r\n",
        "print(\"damar boyut: \",bloodvessel_image.shape)\r\n",
        "print(\"background boyutu\",background_image.shape)"
      ],
      "execution_count": null,
      "outputs": [
        {
          "output_type": "stream",
          "text": [
            "20000\n",
            "background_image16718.bmp\n",
            "20000\n",
            "bloodvessel_image9214.bmp\n",
            "damar boyut:  (20000, 32, 32, 3)\n",
            "background boyutu (20000, 32, 32, 3)\n"
          ],
          "name": "stdout"
        }
      ]
    },
    {
      "cell_type": "code",
      "metadata": {
        "id": "7W8z8wT-igMF"
      },
      "source": [
        "from sklearn.model_selection import train_test_split\r\n",
        "\r\n",
        "x_train,x_test,y_train,y_test=train_test_split(bloodvessel_image,background_image,train_size=0.8)"
      ],
      "execution_count": null,
      "outputs": []
    },
    {
      "cell_type": "code",
      "metadata": {
        "colab": {
          "base_uri": "https://localhost:8080/"
        },
        "id": "2IqtCqk9ETx7",
        "outputId": "8dafeeb2-4329-40ed-ae92-192f6abd854d"
      },
      "source": [
        "print(y_train.shape)"
      ],
      "execution_count": null,
      "outputs": [
        {
          "output_type": "stream",
          "text": [
            "(16000, 32, 32, 3)\n"
          ],
          "name": "stdout"
        }
      ]
    },
    {
      "cell_type": "code",
      "metadata": {
        "id": "US9wa8Niiie7"
      },
      "source": [
        "t=0\r\n",
        "for i in range(len(x_train)):\r\n",
        "  t+=1\r\n",
        "  cv2.imwrite(\"/content/all_image/train/background/background_image\"+str(t)+\".bmp\", y_train[i])\r\n",
        "  cv2.imwrite(\"/content/all_image/train/bloodvessel/bloodvessel_image\"+str(t)+\".bmp\", x_train[i])\r\n",
        "  \r\n",
        "for i in range(len(x_test)):\r\n",
        "  t+=1\r\n",
        "  cv2.imwrite(\"/content/all_image/validation/background/background_image\"+str(t)+\".bmp\", y_test[i])\r\n",
        "  cv2.imwrite(\"/content/all_image/validation/bloodvessel/bloodvessel_image\"+str(t)+\".bmp\", x_test[i])\r\n"
      ],
      "execution_count": null,
      "outputs": []
    },
    {
      "cell_type": "code",
      "metadata": {
        "id": "1zAJvasGjt6K"
      },
      "source": [
        "!zip -r /content/fragmented_images.zip /content/all_image"
      ],
      "execution_count": null,
      "outputs": []
    },
    {
      "cell_type": "code",
      "metadata": {
        "colab": {
          "base_uri": "https://localhost:8080/",
          "height": 17
        },
        "id": "UE0Q5BqcsFga",
        "outputId": "58a214f8-94a8-4799-9e61-031cfa443899"
      },
      "source": [
        "#indirilen dosyanın icerisinde sadece train ve validation klasörleri birakilir diger klasörler silinir.\r\n",
        "\r\n",
        "from google.colab import files\r\n",
        "files.download('/content/fragmented_images.zip') "
      ],
      "execution_count": null,
      "outputs": [
        {
          "output_type": "display_data",
          "data": {
            "application/javascript": [
              "\n",
              "    async function download(id, filename, size) {\n",
              "      if (!google.colab.kernel.accessAllowed) {\n",
              "        return;\n",
              "      }\n",
              "      const div = document.createElement('div');\n",
              "      const label = document.createElement('label');\n",
              "      label.textContent = `Downloading \"${filename}\": `;\n",
              "      div.appendChild(label);\n",
              "      const progress = document.createElement('progress');\n",
              "      progress.max = size;\n",
              "      div.appendChild(progress);\n",
              "      document.body.appendChild(div);\n",
              "\n",
              "      const buffers = [];\n",
              "      let downloaded = 0;\n",
              "\n",
              "      const channel = await google.colab.kernel.comms.open(id);\n",
              "      // Send a message to notify the kernel that we're ready.\n",
              "      channel.send({})\n",
              "\n",
              "      for await (const message of channel.messages) {\n",
              "        // Send a message to notify the kernel that we're ready.\n",
              "        channel.send({})\n",
              "        if (message.buffers) {\n",
              "          for (const buffer of message.buffers) {\n",
              "            buffers.push(buffer);\n",
              "            downloaded += buffer.byteLength;\n",
              "            progress.value = downloaded;\n",
              "          }\n",
              "        }\n",
              "      }\n",
              "      const blob = new Blob(buffers, {type: 'application/binary'});\n",
              "      const a = document.createElement('a');\n",
              "      a.href = window.URL.createObjectURL(blob);\n",
              "      a.download = filename;\n",
              "      div.appendChild(a);\n",
              "      a.click();\n",
              "      div.remove();\n",
              "    }\n",
              "  "
            ],
            "text/plain": [
              "<IPython.core.display.Javascript object>"
            ]
          },
          "metadata": {
            "tags": []
          }
        },
        {
          "output_type": "display_data",
          "data": {
            "application/javascript": [
              "download(\"download_22842af7-6636-4352-87a5-ccd0caf216f1\", \"fragmented_images.zip\", 185924130)"
            ],
            "text/plain": [
              "<IPython.core.display.Javascript object>"
            ]
          },
          "metadata": {
            "tags": []
          }
        }
      ]
    },
    {
      "cell_type": "code",
      "metadata": {
        "id": "jbzq40-1wt8s"
      },
      "source": [
        "!unzip -uq \"/content/fragmented_image.zip\" -d \"/content/data\""
      ],
      "execution_count": null,
      "outputs": []
    },
    {
      "cell_type": "code",
      "metadata": {
        "colab": {
          "base_uri": "https://localhost:8080/"
        },
        "id": "vZj8-kNmt7KC",
        "outputId": "7567054f-d352-4722-eeca-fffa01c45598"
      },
      "source": [
        "from keras.preprocessing.image import ImageDataGenerator\r\n",
        "\r\n",
        "main_dir = 'data/'\r\n",
        "train_dir = os.path.join(main_dir,\"train\")\r\n",
        "validation_dir = os.path.join(main_dir,\"validation\")\r\n",
        "\r\n",
        "train_datagen = ImageDataGenerator(rescale=1./255, shear_range = 0.3,horizontal_flip=True, zoom_range = 0.4)\r\n",
        "\r\n",
        "validation_datagen=ImageDataGenerator(rescale=1. / 255)\r\n",
        "\r\n",
        "train_generator = train_datagen.flow_from_directory(train_dir, target_size=(32,32), class_mode='categorical', batch_size=32, color_mode='rgb')\r\n",
        "\r\n",
        "validation_generator = validation_datagen.flow_from_directory(validation_dir, target_size=(32,32), class_mode='categorical', batch_size=32, color_mode='rgb')\r\n",
        "\r\n",
        "\r\n",
        "print('x_train=%s, min=%.3f, max=%.3f' % (x_train.shape, x_train.min(), x_train.max()))\r\n",
        "\r\n",
        "print('y_train=%s, min=%.3f, max=%.3f' % (y_train.shape, y_train.min(), y_train.max()))"
      ],
      "execution_count": null,
      "outputs": [
        {
          "output_type": "stream",
          "text": [
            "Found 32000 images belonging to 2 classes.\n",
            "Found 8000 images belonging to 2 classes.\n",
            "x_train=(16000, 32, 32, 3), min=0.000, max=255.000\n",
            "y_train=(16000, 32, 32, 3), min=0.000, max=255.000\n"
          ],
          "name": "stdout"
        }
      ]
    },
    {
      "cell_type": "code",
      "metadata": {
        "id": "aMNwEb5wuCvL"
      },
      "source": [
        "x_train,y_train=x_train/255.0,y_train/255.0\r\n",
        "\r\n",
        "x_train = np.expand_dims(x_train,axis=-1)\r\n",
        "y_train = np.expand_dims(y_train,axis=-1)"
      ],
      "execution_count": null,
      "outputs": []
    },
    {
      "cell_type": "code",
      "metadata": {
        "colab": {
          "base_uri": "https://localhost:8080/"
        },
        "id": "b6mi0U_VuF0x",
        "outputId": "d0924719-48cd-4183-d820-d1086afed5bd"
      },
      "source": [
        "from tensorflow.keras.models import Sequential\r\n",
        "from tensorflow.keras.layers import Conv2D,MaxPooling2D,Dropout,Flatten,Dense,Activation,BatchNormalization\r\n",
        "\r\n",
        "model = Sequential()\r\n",
        "model.add(Conv2D(32, (5, 5), activation='relu', input_shape=(32,32,3)))\r\n",
        "model.add(MaxPooling2D((2, 2)))\r\n",
        "model.add(Conv2D(64,(5,5),activation='relu'))\r\n",
        "model.add(MaxPooling2D((2, 2)))\r\n",
        "#model.add(Conv2D(128,(5,5),activation='relu'))\r\n",
        "model.add(Flatten())\r\n",
        "model.add(Dense(100, activation='relu'))\r\n",
        "#model.add(Dense(64, activation='relu'))\r\n",
        "model.add(Dense(2,activation='sigmoid'))\r\n",
        "\r\n",
        "model.summary()\r\n",
        "\r\n",
        "model.compile(loss='categorical_crossentropy',\r\n",
        "  optimizer='adam',metrics=['accuracy'])"
      ],
      "execution_count": null,
      "outputs": [
        {
          "output_type": "stream",
          "text": [
            "Model: \"sequential\"\n",
            "_________________________________________________________________\n",
            "Layer (type)                 Output Shape              Param #   \n",
            "=================================================================\n",
            "conv2d (Conv2D)              (None, 28, 28, 32)        2432      \n",
            "_________________________________________________________________\n",
            "max_pooling2d (MaxPooling2D) (None, 14, 14, 32)        0         \n",
            "_________________________________________________________________\n",
            "conv2d_1 (Conv2D)            (None, 10, 10, 64)        51264     \n",
            "_________________________________________________________________\n",
            "max_pooling2d_1 (MaxPooling2 (None, 5, 5, 64)          0         \n",
            "_________________________________________________________________\n",
            "flatten (Flatten)            (None, 1600)              0         \n",
            "_________________________________________________________________\n",
            "dense (Dense)                (None, 100)               160100    \n",
            "_________________________________________________________________\n",
            "dense_1 (Dense)              (None, 2)                 202       \n",
            "=================================================================\n",
            "Total params: 213,998\n",
            "Trainable params: 213,998\n",
            "Non-trainable params: 0\n",
            "_________________________________________________________________\n"
          ],
          "name": "stdout"
        }
      ]
    },
    {
      "cell_type": "code",
      "metadata": {
        "colab": {
          "base_uri": "https://localhost:8080/",
          "height": 1000
        },
        "id": "a47IpbURuGoL",
        "outputId": "8b2bac61-c22c-44ab-a0db-5cb5d67a33ab"
      },
      "source": [
        "# eğitim\r\n",
        "batch_size = 32\r\n",
        "\r\n",
        "hist = model.fit(\r\n",
        "        train_generator,\r\n",
        "        steps_per_epoch = 500,\r\n",
        "        epochs=100,\r\n",
        "        validation_data = validation_generator,\r\n",
        "        validation_steps = 20)"
      ],
      "execution_count": null,
      "outputs": [
        {
          "output_type": "stream",
          "text": [
            "Epoch 1/100\n",
            "500/500 [==============================] - 39s 77ms/step - loss: 0.6591 - accuracy: 0.5845 - val_loss: 0.6069 - val_accuracy: 0.6359\n",
            "Epoch 2/100\n",
            "500/500 [==============================] - 41s 83ms/step - loss: 0.6378 - accuracy: 0.5953 - val_loss: 0.6166 - val_accuracy: 0.6094\n",
            "Epoch 3/100\n",
            "500/500 [==============================] - 38s 75ms/step - loss: 0.6324 - accuracy: 0.6057 - val_loss: 0.6537 - val_accuracy: 0.5719\n",
            "Epoch 4/100\n",
            "500/500 [==============================] - 39s 79ms/step - loss: 0.6353 - accuracy: 0.5917 - val_loss: 0.6254 - val_accuracy: 0.6141\n",
            "Epoch 5/100\n",
            "500/500 [==============================] - 39s 79ms/step - loss: 0.6308 - accuracy: 0.6045 - val_loss: 0.6288 - val_accuracy: 0.5828\n",
            "Epoch 6/100\n",
            "500/500 [==============================] - 37s 75ms/step - loss: 0.6282 - accuracy: 0.6042 - val_loss: 0.6087 - val_accuracy: 0.6203\n",
            "Epoch 7/100\n",
            "500/500 [==============================] - 37s 75ms/step - loss: 0.6342 - accuracy: 0.5959 - val_loss: 0.6400 - val_accuracy: 0.6016\n",
            "Epoch 8/100\n",
            "500/500 [==============================] - 38s 75ms/step - loss: 0.6399 - accuracy: 0.5906 - val_loss: 0.6303 - val_accuracy: 0.6125\n",
            "Epoch 9/100\n",
            "500/500 [==============================] - 38s 75ms/step - loss: 0.6354 - accuracy: 0.6067 - val_loss: 0.6359 - val_accuracy: 0.6047\n",
            "Epoch 10/100\n",
            "500/500 [==============================] - 37s 75ms/step - loss: 0.6322 - accuracy: 0.5968 - val_loss: 0.6221 - val_accuracy: 0.6187\n",
            "Epoch 11/100\n",
            "500/500 [==============================] - 38s 75ms/step - loss: 0.6347 - accuracy: 0.5995 - val_loss: 0.6246 - val_accuracy: 0.6062\n",
            "Epoch 12/100\n",
            "500/500 [==============================] - 38s 75ms/step - loss: 0.6303 - accuracy: 0.6102 - val_loss: 0.6298 - val_accuracy: 0.5906\n",
            "Epoch 13/100\n",
            "500/500 [==============================] - 38s 75ms/step - loss: 0.6295 - accuracy: 0.6080 - val_loss: 0.6130 - val_accuracy: 0.6531\n",
            "Epoch 14/100\n",
            "500/500 [==============================] - 38s 75ms/step - loss: 0.6321 - accuracy: 0.6074 - val_loss: 0.6130 - val_accuracy: 0.6281\n",
            "Epoch 15/100\n",
            "500/500 [==============================] - 37s 75ms/step - loss: 0.6296 - accuracy: 0.6028 - val_loss: 0.6185 - val_accuracy: 0.5891\n",
            "Epoch 16/100\n",
            "500/500 [==============================] - 40s 80ms/step - loss: 0.6273 - accuracy: 0.6027 - val_loss: 0.6545 - val_accuracy: 0.5969\n",
            "Epoch 17/100\n",
            "500/500 [==============================] - 37s 75ms/step - loss: 0.6286 - accuracy: 0.6025 - val_loss: 0.6456 - val_accuracy: 0.6062\n",
            "Epoch 18/100\n",
            "500/500 [==============================] - 37s 75ms/step - loss: 0.6293 - accuracy: 0.6056 - val_loss: 0.6316 - val_accuracy: 0.5891\n",
            "Epoch 19/100\n",
            "500/500 [==============================] - 38s 75ms/step - loss: 0.6275 - accuracy: 0.6032 - val_loss: 0.6193 - val_accuracy: 0.6250\n",
            "Epoch 20/100\n",
            "500/500 [==============================] - 37s 75ms/step - loss: 0.6283 - accuracy: 0.6035 - val_loss: 0.6257 - val_accuracy: 0.5953\n",
            "Epoch 21/100\n",
            "156/500 [========>.....................] - ETA: 25s - loss: 0.6228 - accuracy: 0.6043"
          ],
          "name": "stdout"
        },
        {
          "output_type": "error",
          "ename": "KeyboardInterrupt",
          "evalue": "ignored",
          "traceback": [
            "\u001b[0;31m---------------------------------------------------------------------------\u001b[0m",
            "\u001b[0;31mKeyboardInterrupt\u001b[0m                         Traceback (most recent call last)",
            "\u001b[0;32m<ipython-input-13-28c18742b9d4>\u001b[0m in \u001b[0;36m<module>\u001b[0;34m()\u001b[0m\n\u001b[1;32m      7\u001b[0m         \u001b[0mepochs\u001b[0m\u001b[0;34m=\u001b[0m\u001b[0;36m100\u001b[0m\u001b[0;34m,\u001b[0m\u001b[0;34m\u001b[0m\u001b[0;34m\u001b[0m\u001b[0m\n\u001b[1;32m      8\u001b[0m         \u001b[0mvalidation_data\u001b[0m \u001b[0;34m=\u001b[0m \u001b[0mvalidation_generator\u001b[0m\u001b[0;34m,\u001b[0m\u001b[0;34m\u001b[0m\u001b[0;34m\u001b[0m\u001b[0m\n\u001b[0;32m----> 9\u001b[0;31m         validation_steps = 20)\n\u001b[0m",
            "\u001b[0;32m/usr/local/lib/python3.6/dist-packages/tensorflow/python/keras/engine/training.py\u001b[0m in \u001b[0;36mfit\u001b[0;34m(self, x, y, batch_size, epochs, verbose, callbacks, validation_split, validation_data, shuffle, class_weight, sample_weight, initial_epoch, steps_per_epoch, validation_steps, validation_batch_size, validation_freq, max_queue_size, workers, use_multiprocessing)\u001b[0m\n\u001b[1;32m   1098\u001b[0m                 _r=1):\n\u001b[1;32m   1099\u001b[0m               \u001b[0mcallbacks\u001b[0m\u001b[0;34m.\u001b[0m\u001b[0mon_train_batch_begin\u001b[0m\u001b[0;34m(\u001b[0m\u001b[0mstep\u001b[0m\u001b[0;34m)\u001b[0m\u001b[0;34m\u001b[0m\u001b[0;34m\u001b[0m\u001b[0m\n\u001b[0;32m-> 1100\u001b[0;31m               \u001b[0mtmp_logs\u001b[0m \u001b[0;34m=\u001b[0m \u001b[0mself\u001b[0m\u001b[0;34m.\u001b[0m\u001b[0mtrain_function\u001b[0m\u001b[0;34m(\u001b[0m\u001b[0miterator\u001b[0m\u001b[0;34m)\u001b[0m\u001b[0;34m\u001b[0m\u001b[0;34m\u001b[0m\u001b[0m\n\u001b[0m\u001b[1;32m   1101\u001b[0m               \u001b[0;32mif\u001b[0m \u001b[0mdata_handler\u001b[0m\u001b[0;34m.\u001b[0m\u001b[0mshould_sync\u001b[0m\u001b[0;34m:\u001b[0m\u001b[0;34m\u001b[0m\u001b[0;34m\u001b[0m\u001b[0m\n\u001b[1;32m   1102\u001b[0m                 \u001b[0mcontext\u001b[0m\u001b[0;34m.\u001b[0m\u001b[0masync_wait\u001b[0m\u001b[0;34m(\u001b[0m\u001b[0;34m)\u001b[0m\u001b[0;34m\u001b[0m\u001b[0;34m\u001b[0m\u001b[0m\n",
            "\u001b[0;32m/usr/local/lib/python3.6/dist-packages/tensorflow/python/eager/def_function.py\u001b[0m in \u001b[0;36m__call__\u001b[0;34m(self, *args, **kwds)\u001b[0m\n\u001b[1;32m    826\u001b[0m     \u001b[0mtracing_count\u001b[0m \u001b[0;34m=\u001b[0m \u001b[0mself\u001b[0m\u001b[0;34m.\u001b[0m\u001b[0mexperimental_get_tracing_count\u001b[0m\u001b[0;34m(\u001b[0m\u001b[0;34m)\u001b[0m\u001b[0;34m\u001b[0m\u001b[0;34m\u001b[0m\u001b[0m\n\u001b[1;32m    827\u001b[0m     \u001b[0;32mwith\u001b[0m \u001b[0mtrace\u001b[0m\u001b[0;34m.\u001b[0m\u001b[0mTrace\u001b[0m\u001b[0;34m(\u001b[0m\u001b[0mself\u001b[0m\u001b[0;34m.\u001b[0m\u001b[0m_name\u001b[0m\u001b[0;34m)\u001b[0m \u001b[0;32mas\u001b[0m \u001b[0mtm\u001b[0m\u001b[0;34m:\u001b[0m\u001b[0;34m\u001b[0m\u001b[0;34m\u001b[0m\u001b[0m\n\u001b[0;32m--> 828\u001b[0;31m       \u001b[0mresult\u001b[0m \u001b[0;34m=\u001b[0m \u001b[0mself\u001b[0m\u001b[0;34m.\u001b[0m\u001b[0m_call\u001b[0m\u001b[0;34m(\u001b[0m\u001b[0;34m*\u001b[0m\u001b[0margs\u001b[0m\u001b[0;34m,\u001b[0m \u001b[0;34m**\u001b[0m\u001b[0mkwds\u001b[0m\u001b[0;34m)\u001b[0m\u001b[0;34m\u001b[0m\u001b[0;34m\u001b[0m\u001b[0m\n\u001b[0m\u001b[1;32m    829\u001b[0m       \u001b[0mcompiler\u001b[0m \u001b[0;34m=\u001b[0m \u001b[0;34m\"xla\"\u001b[0m \u001b[0;32mif\u001b[0m \u001b[0mself\u001b[0m\u001b[0;34m.\u001b[0m\u001b[0m_experimental_compile\u001b[0m \u001b[0;32melse\u001b[0m \u001b[0;34m\"nonXla\"\u001b[0m\u001b[0;34m\u001b[0m\u001b[0;34m\u001b[0m\u001b[0m\n\u001b[1;32m    830\u001b[0m       \u001b[0mnew_tracing_count\u001b[0m \u001b[0;34m=\u001b[0m \u001b[0mself\u001b[0m\u001b[0;34m.\u001b[0m\u001b[0mexperimental_get_tracing_count\u001b[0m\u001b[0;34m(\u001b[0m\u001b[0;34m)\u001b[0m\u001b[0;34m\u001b[0m\u001b[0;34m\u001b[0m\u001b[0m\n",
            "\u001b[0;32m/usr/local/lib/python3.6/dist-packages/tensorflow/python/eager/def_function.py\u001b[0m in \u001b[0;36m_call\u001b[0;34m(self, *args, **kwds)\u001b[0m\n\u001b[1;32m    853\u001b[0m       \u001b[0;31m# In this case we have created variables on the first call, so we run the\u001b[0m\u001b[0;34m\u001b[0m\u001b[0;34m\u001b[0m\u001b[0;34m\u001b[0m\u001b[0m\n\u001b[1;32m    854\u001b[0m       \u001b[0;31m# defunned version which is guaranteed to never create variables.\u001b[0m\u001b[0;34m\u001b[0m\u001b[0;34m\u001b[0m\u001b[0;34m\u001b[0m\u001b[0m\n\u001b[0;32m--> 855\u001b[0;31m       \u001b[0;32mreturn\u001b[0m \u001b[0mself\u001b[0m\u001b[0;34m.\u001b[0m\u001b[0m_stateless_fn\u001b[0m\u001b[0;34m(\u001b[0m\u001b[0;34m*\u001b[0m\u001b[0margs\u001b[0m\u001b[0;34m,\u001b[0m \u001b[0;34m**\u001b[0m\u001b[0mkwds\u001b[0m\u001b[0;34m)\u001b[0m  \u001b[0;31m# pylint: disable=not-callable\u001b[0m\u001b[0;34m\u001b[0m\u001b[0;34m\u001b[0m\u001b[0m\n\u001b[0m\u001b[1;32m    856\u001b[0m     \u001b[0;32melif\u001b[0m \u001b[0mself\u001b[0m\u001b[0;34m.\u001b[0m\u001b[0m_stateful_fn\u001b[0m \u001b[0;32mis\u001b[0m \u001b[0;32mnot\u001b[0m \u001b[0;32mNone\u001b[0m\u001b[0;34m:\u001b[0m\u001b[0;34m\u001b[0m\u001b[0;34m\u001b[0m\u001b[0m\n\u001b[1;32m    857\u001b[0m       \u001b[0;31m# Release the lock early so that multiple threads can perform the call\u001b[0m\u001b[0;34m\u001b[0m\u001b[0;34m\u001b[0m\u001b[0;34m\u001b[0m\u001b[0m\n",
            "\u001b[0;32m/usr/local/lib/python3.6/dist-packages/tensorflow/python/eager/function.py\u001b[0m in \u001b[0;36m__call__\u001b[0;34m(self, *args, **kwargs)\u001b[0m\n\u001b[1;32m   2941\u001b[0m        filtered_flat_args) = self._maybe_define_function(args, kwargs)\n\u001b[1;32m   2942\u001b[0m     return graph_function._call_flat(\n\u001b[0;32m-> 2943\u001b[0;31m         filtered_flat_args, captured_inputs=graph_function.captured_inputs)  # pylint: disable=protected-access\n\u001b[0m\u001b[1;32m   2944\u001b[0m \u001b[0;34m\u001b[0m\u001b[0m\n\u001b[1;32m   2945\u001b[0m   \u001b[0;34m@\u001b[0m\u001b[0mproperty\u001b[0m\u001b[0;34m\u001b[0m\u001b[0;34m\u001b[0m\u001b[0m\n",
            "\u001b[0;32m/usr/local/lib/python3.6/dist-packages/tensorflow/python/eager/function.py\u001b[0m in \u001b[0;36m_call_flat\u001b[0;34m(self, args, captured_inputs, cancellation_manager)\u001b[0m\n\u001b[1;32m   1917\u001b[0m       \u001b[0;31m# No tape is watching; skip to running the function.\u001b[0m\u001b[0;34m\u001b[0m\u001b[0;34m\u001b[0m\u001b[0;34m\u001b[0m\u001b[0m\n\u001b[1;32m   1918\u001b[0m       return self._build_call_outputs(self._inference_function.call(\n\u001b[0;32m-> 1919\u001b[0;31m           ctx, args, cancellation_manager=cancellation_manager))\n\u001b[0m\u001b[1;32m   1920\u001b[0m     forward_backward = self._select_forward_and_backward_functions(\n\u001b[1;32m   1921\u001b[0m         \u001b[0margs\u001b[0m\u001b[0;34m,\u001b[0m\u001b[0;34m\u001b[0m\u001b[0;34m\u001b[0m\u001b[0m\n",
            "\u001b[0;32m/usr/local/lib/python3.6/dist-packages/tensorflow/python/eager/function.py\u001b[0m in \u001b[0;36mcall\u001b[0;34m(self, ctx, args, cancellation_manager)\u001b[0m\n\u001b[1;32m    558\u001b[0m               \u001b[0minputs\u001b[0m\u001b[0;34m=\u001b[0m\u001b[0margs\u001b[0m\u001b[0;34m,\u001b[0m\u001b[0;34m\u001b[0m\u001b[0;34m\u001b[0m\u001b[0m\n\u001b[1;32m    559\u001b[0m               \u001b[0mattrs\u001b[0m\u001b[0;34m=\u001b[0m\u001b[0mattrs\u001b[0m\u001b[0;34m,\u001b[0m\u001b[0;34m\u001b[0m\u001b[0;34m\u001b[0m\u001b[0m\n\u001b[0;32m--> 560\u001b[0;31m               ctx=ctx)\n\u001b[0m\u001b[1;32m    561\u001b[0m         \u001b[0;32melse\u001b[0m\u001b[0;34m:\u001b[0m\u001b[0;34m\u001b[0m\u001b[0;34m\u001b[0m\u001b[0m\n\u001b[1;32m    562\u001b[0m           outputs = execute.execute_with_cancellation(\n",
            "\u001b[0;32m/usr/local/lib/python3.6/dist-packages/tensorflow/python/eager/execute.py\u001b[0m in \u001b[0;36mquick_execute\u001b[0;34m(op_name, num_outputs, inputs, attrs, ctx, name)\u001b[0m\n\u001b[1;32m     58\u001b[0m     \u001b[0mctx\u001b[0m\u001b[0;34m.\u001b[0m\u001b[0mensure_initialized\u001b[0m\u001b[0;34m(\u001b[0m\u001b[0;34m)\u001b[0m\u001b[0;34m\u001b[0m\u001b[0;34m\u001b[0m\u001b[0m\n\u001b[1;32m     59\u001b[0m     tensors = pywrap_tfe.TFE_Py_Execute(ctx._handle, device_name, op_name,\n\u001b[0;32m---> 60\u001b[0;31m                                         inputs, attrs, num_outputs)\n\u001b[0m\u001b[1;32m     61\u001b[0m   \u001b[0;32mexcept\u001b[0m \u001b[0mcore\u001b[0m\u001b[0;34m.\u001b[0m\u001b[0m_NotOkStatusException\u001b[0m \u001b[0;32mas\u001b[0m \u001b[0me\u001b[0m\u001b[0;34m:\u001b[0m\u001b[0;34m\u001b[0m\u001b[0;34m\u001b[0m\u001b[0m\n\u001b[1;32m     62\u001b[0m     \u001b[0;32mif\u001b[0m \u001b[0mname\u001b[0m \u001b[0;32mis\u001b[0m \u001b[0;32mnot\u001b[0m \u001b[0;32mNone\u001b[0m\u001b[0;34m:\u001b[0m\u001b[0;34m\u001b[0m\u001b[0;34m\u001b[0m\u001b[0m\n",
            "\u001b[0;31mKeyboardInterrupt\u001b[0m: "
          ]
        }
      ]
    }
  ]
}