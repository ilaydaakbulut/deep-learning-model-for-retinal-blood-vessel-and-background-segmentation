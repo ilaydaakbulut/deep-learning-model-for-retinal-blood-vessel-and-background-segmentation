{
  "nbformat": 4,
  "nbformat_minor": 0,
  "metadata": {
    "colab": {
      "name": "Görüntü Okuma ve Kırpma.ipynb",
      "provenance": [],
      "collapsed_sections": []
    },
    "kernelspec": {
      "name": "python3",
      "display_name": "Python 3"
    }
  },
  "cells": [
    {
      "cell_type": "code",
      "metadata": {
        "id": "7fKeDjsaRIUf"
      },
      "source": [
        "!wget --no-check-certificate \\\r\n",
        "  http://ceng2.ktu.edu.tr/~zafer/dl/stare-images.zip \\\r\n",
        "  -O stare.zip"
      ],
      "execution_count": null,
      "outputs": []
    },
    {
      "cell_type": "code",
      "metadata": {
        "id": "P7IVKCOxRQsI"
      },
      "source": [
        "import os\r\n",
        "import zipfile\r\n",
        "\r\n",
        "local_zip = 'stare.zip'\r\n",
        "zip_ref = zipfile.ZipFile(local_zip, 'r')\r\n",
        "zip_ref.extractall('.')\r\n",
        "zip_ref.close()"
      ],
      "execution_count": null,
      "outputs": []
    },
    {
      "cell_type": "code",
      "metadata": {
        "id": "ju1ogYkWRWHk"
      },
      "source": [
        "import cv2\r\n",
        "import glob, os\r\n",
        "from google.colab.patches import cv2_imshow\r\n",
        "stare_path = \"stare/\"\r\n",
        "img_names = [\"im0001\", \"im0002\", \"im0003\", \"im0004\", \"im0005\",\r\n",
        "             \"im0044\", \"im0077\", \"im0081\", \"im0082\", \"im0139\",\r\n",
        "             \"im0162\", \"im0163\", \"im0235\", \"im0236\", \"im0239\",\r\n",
        "             \"im0240\", \"im0255\", \"im0291\", \"im0319\", \"im0324\"]\r\n",
        "\r\n",
        "\r\n",
        "color_images    = [None]*len(img_names)     # renkli görüntüler\r\n",
        "manual_images1  = [None]*len(img_names)     # manual görüntü isimleri\r\n",
        "manual_images2  = [None]*len(img_names)     # manuel görüntü isimleri-2\r\n",
        "mask_images     = [None]*len(img_names)     # maske görüntüleri\r\n",
        "\r\n",
        "\r\n",
        "for i in range(len(img_names)):\r\n",
        "    color_images[i]     = img_names[i] + \".bmp\"\r\n",
        "    manual_images1[i]   = img_names[i] + \".ah.bmp\" \r\n",
        "    manual_images2[i]   = img_names[i] + \".vk.bmp\" \r\n",
        "    mask_images[i]      = \"msk_\" + img_names[i] + \".jpg\" \r\n"
      ],
      "execution_count": null,
      "outputs": []
    },
    {
      "cell_type": "code",
      "metadata": {
        "id": "4vrytJN4RmUZ"
      },
      "source": [
        "import numpy as np\r\n",
        "manual_image1= []\r\n",
        "for i in range(len(manual_images1)):\r\n",
        "  manual_image1.append(cv2.imread(os.path.join(stare_path,manual_images1[i]),cv2.IMREAD_GRAYSCALE))\r\n",
        "manual_image1=np.array(manual_image1,dtype=np.float32)\r\n",
        "\r\n",
        "manual_image2= []\r\n",
        "for i in range(len(manual_images2)):\r\n",
        "  manual_image2.append(cv2.imread(os.path.join(stare_path,manual_images2[i]),cv2.IMREAD_GRAYSCALE))\r\n",
        "\r\n",
        "manual_image2=np.array(manual_image2)"
      ],
      "execution_count": null,
      "outputs": []
    },
    {
      "cell_type": "code",
      "metadata": {
        "colab": {
          "base_uri": "https://localhost:8080/"
        },
        "id": "KGpP4yyqRuoD",
        "outputId": "66df4d92-ae1d-4317-a14b-5df0dc1d57be"
      },
      "source": [
        "#manual_image1 için arkaplan ve damar piksel sayıları\r\n",
        "sayac=0\r\n",
        "say=0\r\n",
        "sayma=0\r\n",
        "background_image_sizes=[]\r\n",
        "bloodvessel_image_sizes=[]\r\n",
        "\r\n",
        "for x in range(len(manual_images1)):\r\n",
        "  a=manual_image1[x]\r\n",
        "  rows=a.shape[0]\r\n",
        "  cols=a.shape[1]\r\n",
        "  n=32\r\n",
        "  off=n//2  \r\n",
        "  for i in range (off,rows-off+1):\r\n",
        "    for j in range(off,cols-off+1):\r\n",
        "      if a[i,j]/255==0:\r\n",
        "        say+=1\r\n",
        "        background_image_sizes.append([i,j])\r\n",
        "      else:\r\n",
        "        sayma+=1\r\n",
        "        bloodvessel_image_sizes.append([i,j])\r\n",
        "      sayac+=1\r\n",
        "\r\n",
        "background_image_sizes=np.array(background_image_sizes)\r\n",
        "bloodvessel_image_sizes=np.array(bloodvessel_image_sizes)\r\n",
        "print(background_image_sizes.shape)\r\n",
        "print(bloodvessel_image_sizes.shape)"
      ],
      "execution_count": null,
      "outputs": [
        {
          "output_type": "stream",
          "text": [
            "(7036571, 2)\n",
            "(643549, 2)\n"
          ],
          "name": "stdout"
        }
      ]
    },
    {
      "cell_type": "code",
      "metadata": {
        "id": "4KYNw6ePR9kv"
      },
      "source": [
        "#manual_image2 için arkaplan ve damar piksel sayıları\r\n",
        "sayac2=0\r\n",
        "say2=0\r\n",
        "sayma2=0\r\n",
        "background_image_sizes2=[]\r\n",
        "bloodvessel_image_sizes2=[]\r\n",
        "\r\n",
        "for x in range(len(manual_images2)):\r\n",
        "  a=manual_image2[x]\r\n",
        "  rows2=a.shape[0]\r\n",
        "  cols2=a.shape[1]\r\n",
        "  n=32\r\n",
        "  off=n//2  \r\n",
        "  for i in range (off,rows2-off+1):\r\n",
        "    for j in range(off,cols2-off+1):\r\n",
        "      if a[i,j]/255==0:\r\n",
        "        say+=1\r\n",
        "        background_image_sizes2.append([i,j])\r\n",
        "      else:\r\n",
        "        sayma+=1\r\n",
        "        bloodvessel_image_sizes2.append([i,j])\r\n",
        "      \r\n",
        "sayac2+=1\r\n",
        "\r\n",
        "background_image_sizes2=np.array(background_image_sizes2)\r\n",
        "bloodvessel_image_sizes2=np.array(bloodvessel_image_sizes2)\r\n"
      ],
      "execution_count": null,
      "outputs": []
    },
    {
      "cell_type": "code",
      "metadata": {
        "id": "xwBCNwYYSNs1"
      },
      "source": [
        "#manual_images1 ve manual_images2 için arkaplan ve damar piksellerinin yerleri\r\n",
        "selCount    = 1000  #20 resim için toplam 1000*20=20000\r\n",
        "selArrayInd = np.random.randint(0,len(background_image_sizes),selCount,dtype=int)  #manual_images1 için selCount sayısı kadar arkaplan pikseli seçildi\r\n",
        "selArrayInd2 =np.random.randint(0,len(bloodvessel_image_sizes),selCount,dtype=int) #manual_images1 için selCount sayısı kadar damar pikseli seçildi\r\n",
        "#selArrayInd3 = np.random.randint(0,len(background_image_sizes2),selCount,dtype=int) #manual_images2 için selCount sayısı kadar arkaplan pikseli seçildi\r\n",
        "#selArrayInd4 =np.random.randint(0,len(bloodvessel_image_sizes2),selCount,dtype=int) #manual_images2 için selCount sayısı kadar damar pikseli seçildi\r\n",
        "selArray = background_image_sizes[selArrayInd] #manual_images1 için random arkaplan piksellerini tutan dizi\r\n",
        "selArray2 = bloodvessel_image_sizes[selArrayInd2] #manual_images1 için random damar piksellerini tutan dizi\r\n",
        "#selArray3 = background_image_sizes2[selArrayInd3] #manual_images2 için random arkaplan piksellerini tutan dizi\r\n",
        "#selArray4 = bloodvessel_image_sizes2[selArrayInd4] #manual_images2 için random damar piksellerini tutan dizi\r\n",
        "#print(selArrayInd,selArray,sep='\\n')\r\n",
        "t=0\r\n",
        "for i in range(len(selArray)):\r\n",
        "  t+=1\r\n"
      ],
      "execution_count": null,
      "outputs": []
    },
    {
      "cell_type": "code",
      "metadata": {
        "id": "d_oGOmpnSUib"
      },
      "source": [
        "#renkli görüntüleri dizide tutma\r\n",
        "color_image= []\r\n",
        "for i in range(len(color_images)):\r\n",
        "  color_image.append(cv2.imread(os.path.join(stare_path,color_images[i]),cv2.IMREAD_COLOR))"
      ],
      "execution_count": null,
      "outputs": []
    },
    {
      "cell_type": "code",
      "metadata": {
        "colab": {
          "base_uri": "https://localhost:8080/"
        },
        "id": "tALF5ZJgSXGf",
        "outputId": "31f091c1-ab54-45ec-f169-524fd7ee6f0c"
      },
      "source": [
        "new_arry_background=[] #bu dizide renkli görüntülerden istenen arkaplan pikselleri saklanacak.\r\n",
        "new_arry_bloodvessel=[] #bu dizide renkli görüntülerden istenen damar pikselleri saklanacak.\r\n",
        "col1_arry_background1=[] #manual_image1 arkaplan için piksellerinin birinci sütun değerlerini tutar\r\n",
        "col1_arry_background2=[] #manual_image1 arkaplan için piksellerinin ikinci sütun değerlerini tutar\r\n",
        "col1_arry2_bloodvessel1=[] #manual_image1 damar için piksellerinin birinci sütun değerlerini tutar\r\n",
        "col1_arry2_bloodvessel2=[] #manual_image1 damar için piksellerinin ikinci sütun değerlerini tutar\r\n",
        "\"\"\"\r\n",
        "col2_arry_background1=[] #manual_image2 arkaplan için piksellerinin birinci sütun değerlerini tutar\r\n",
        "col2_arry_background2=[] #manual_image2 arkaplan için piksellerinin ikinci sütun değerlerini tutar\r\n",
        "col2_arry2_bloodvessel1=[] #manual_image2 damar için piksellerinin birinci sütun değerlerini tutar\r\n",
        "col2_arry2_bloodvessel2=[] #manual_image2 damar için piksellerinin ikinci sütun değerlerini tutar\r\n",
        "\"\"\"\r\n",
        "for i in range(selCount):\r\n",
        "  col1_arry_background1.append(selArray[i][0])\r\n",
        "  col1_arry_background2.append(selArray[i][1])\r\n",
        "  col1_arry2_bloodvessel1.append(selArray2[i][0])\r\n",
        "  col1_arry2_bloodvessel2.append(selArray2[i][1])\r\n",
        "\"\"\"\r\n",
        "  col2_arry_background1.append(selArray3[i][0])\r\n",
        "  col2_arry_background2.append(selArray3[i][1]) \r\n",
        "  col2_arry2_bloodvessel1.append(selArray4[i][0])\r\n",
        "  col2_arry2_bloodvessel2.append(selArray4[i][1])\r\n",
        "\"\"\"\r\n",
        "print(col1_arry_background1[0])\r\n",
        "print(col1_arry_background2[0])\r\n",
        "print(col1_arry2_bloodvessel1[0])\r\n",
        "print(col1_arry2_bloodvessel2[0])\r\n",
        "\"\"\"\r\n",
        "print(col2_arry_background1[0])\r\n",
        "print(col2_arry_background2[0])\r\n",
        "print(col2_arry2_bloodvessel1[0])\r\n",
        "print(col2_arry2_bloodvessel2[0])\r\n",
        "\"\"\"\r\n",
        "for x in range(len(color_image)):\r\n",
        "  b=color_image[x] \r\n",
        "  for i in range (selCount):\r\n",
        "    new_arry_background.append(b[col1_arry_background1[i]-off:col1_arry_background1[i]+off,col1_arry_background2[i]-off:col1_arry_background2[i]+off,:])\r\n",
        "    #new_arry_background.append(b[col2_arry_background1[i]-off:col2_arry_background1[i]+off+1,col2_arry_background2[i]-off:col2_arry_background2[i]+off+1,:])\r\n",
        "    new_arry_bloodvessel.append(b[col1_arry2_bloodvessel1[i]-off:col1_arry2_bloodvessel1[i]+off,col1_arry2_bloodvessel2[i]-off:col1_arry2_bloodvessel2[i]+off,:])\r\n",
        "    #new_arry_bloodvessel.append(b[col2_arry2_bloodvessel1[i]-off:col2_arry2_bloodvessel1[i]+off+1,col2_arry2_bloodvessel2[i]-off:col2_arry2_bloodvessel2[i]+off+1,:])\r\n",
        "\r\n",
        "new_arry_background=np.array(new_arry_background)\r\n",
        "new_arry_bloodvessel=np.array(new_arry_bloodvessel)\r\n"
      ],
      "execution_count": null,
      "outputs": [
        {
          "output_type": "stream",
          "text": [
            "536\n",
            "345\n",
            "220\n",
            "392\n"
          ],
          "name": "stdout"
        }
      ]
    },
    {
      "cell_type": "code",
      "metadata": {
        "id": "d27b-u-CSZvR"
      },
      "source": [
        "#oluşturulan arkaplan ve damar piksellerinin klasöre eklenmesi\r\n",
        "import cv2\r\n",
        "t=0\r\n",
        "for i in range(len(new_arry_background)):\r\n",
        "  t+=1\r\n",
        "  cv2.imwrite(\"/content/all_images/background/background_image\"+str(t)+\".bmp\", new_arry_background[i])\r\n",
        "  cv2.imwrite(\"/content/all_images/bloodvessel/bloodvessel_image\"+str(t)+\".bmp\", new_arry_bloodvessel[i])"
      ],
      "execution_count": null,
      "outputs": []
    },
    {
      "cell_type": "code",
      "metadata": {
        "id": "NuZVIKi8SbYz"
      },
      "source": [
        "!zip -r /content/all_images.zip /content/all_images\r\n",
        "from google.colab import files\r\n",
        "files.download('/content/all_images.zip') "
      ],
      "execution_count": null,
      "outputs": []
    },
    {
      "cell_type": "code",
      "metadata": {
        "id": "Omy_xAduD_w6"
      },
      "source": [
        "rm -fr fragmented_image.zip"
      ],
      "execution_count": null,
      "outputs": []
    }
  ]
}